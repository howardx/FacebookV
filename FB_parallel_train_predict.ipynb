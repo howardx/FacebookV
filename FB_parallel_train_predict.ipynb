{
 "metadata": {
  "name": "",
  "signature": "sha256:bcc974623ee236544f4ba82e394a7e25f9c12994a0719b59a98e15af5cf43b0d"
 },
 "nbformat": 3,
 "nbformat_minor": 0,
 "worksheets": [
  {
   "cells": [
    {
     "cell_type": "code",
     "collapsed": false,
     "input": [
      "import pandas as pd\n",
      "import numpy as np\n",
      "\n",
      "from itertools import tee, izip\n",
      "import os"
     ],
     "language": "python",
     "metadata": {},
     "outputs": [],
     "prompt_number": 10
    },
    {
     "cell_type": "code",
     "collapsed": false,
     "input": [
      "train = pd.read_csv('data/train_10K_sample.csv')\n",
      "test = pd.read_csv('data/train_10K_sample.csv')\n",
      "\n",
      "# for real testing set we don't need to do this - it doesn't have place_id info\n",
      "test = test[['row_id', 'x', 'y', 'accuracy', 'time']]\n",
      "\n",
      "print min(train['place_id'])"
     ],
     "language": "python",
     "metadata": {},
     "outputs": [
      {
       "output_type": "stream",
       "stream": "stdout",
       "text": [
        "1004415491\n"
       ]
      }
     ],
     "prompt_number": 11
    },
    {
     "cell_type": "code",
     "collapsed": false,
     "input": [
      "import K_fbV.fb_split_grid as sg\n",
      "import K_fbV.factorize_predictor as fp"
     ],
     "language": "python",
     "metadata": {},
     "outputs": [],
     "prompt_number": 12
    },
    {
     "cell_type": "code",
     "collapsed": false,
     "input": [
      "# generate the grids\n",
      "train_grid, test_grid = sg.get_grids(train, test, n = 10, m = 10)\n",
      "\n",
      "print test_grid[(2,8)].shape # number of testing set data points in grid (2, 8)"
     ],
     "language": "python",
     "metadata": {},
     "outputs": [
      {
       "output_type": "stream",
       "stream": "stdout",
       "text": [
        "(91, 5)\n"
       ]
      }
     ],
     "prompt_number": 13
    },
    {
     "cell_type": "code",
     "collapsed": false,
     "input": [
      "import K_fbV.feature_predictor_split as fps\n",
      "import K_fbV.tune_numRound_maxDepth as tnm\n",
      "\n",
      "import K_fbV.train_grid_model as tgm\n",
      "import K_fbV.make_grid_prediction as mgp\n",
      "\n",
      "import K_fbV.gen_submission as gs"
     ],
     "language": "python",
     "metadata": {},
     "outputs": [],
     "prompt_number": 14
    },
    {
     "cell_type": "code",
     "collapsed": false,
     "input": [
      "param = {}\n",
      "# use softmax multi-class classification\n",
      "param['objective'] = 'multi:softprob' # tells boosted trees to output probability\n",
      "param['booster'] = 'gbtree' # - default is set to \"gbtree\" - gradient boosted tree\n",
      "# scale weight of positive examples\n",
      "param['eta'] = 0.1 # Parameters for Tree Booster - Booster parameter\n",
      "param['silent'] = 1 # whether to print logs\n",
      "param['nthread'] = 1 # parallelism\n",
      "param['eval_metric'] = 'mlogloss'"
     ],
     "language": "python",
     "metadata": {},
     "outputs": [],
     "prompt_number": 15
    },
    {
     "cell_type": "markdown",
     "metadata": {},
     "source": [
      "# Quick smoke test of the entire pipeline"
     ]
    },
    {
     "cell_type": "code",
     "collapsed": false,
     "input": [
      "model_dict = {}\n",
      "unique_class_dict = {}\n",
      "\n",
      "tgm.train_model((2, 8), train_grid, param, model_dict, unique_class_dict,\n",
      "            feature_list = ['x', 'y', 'accuracy', 'time'], predictor_name = 'place_id',\n",
      "            predictor_idx = 4, leaf_mltpr = 1.2, tree_mltpr = 1.02)\n",
      "\n",
      "tgm.train_model((2, 9), train_grid, param, model_dict, unique_class_dict,\n",
      "            feature_list = ['x', 'y', 'accuracy', 'time'], predictor_name = 'place_id',\n",
      "            predictor_idx = 4, leaf_mltpr = 1.002, tree_mltpr = 1.001)\n",
      "\n",
      "prediction_dict = {}\n",
      "mgp.predict_output((2, 8), test_grid, model_dict, unique_class_dict, prediction_dict,\n",
      "               test_row_id = 'row_id', feature_list = ['x', 'y', 'accuracy', 'time'])\n",
      "\n",
      "mgp.predict_output((2, 9), test_grid, model_dict, unique_class_dict, prediction_dict,\n",
      "               test_row_id = 'row_id', feature_list = ['x', 'y', 'accuracy', 'time'])\n",
      "\n",
      "print gs.merge_prediction_grids(prediction_dict).head()"
     ],
     "language": "python",
     "metadata": {},
     "outputs": [
      {
       "output_type": "stream",
       "stream": "stderr",
       "text": [
        "[0]\ttrain-mlogloss:4.449973\n",
        "[1]\ttrain-mlogloss:4.422537\n",
        "[2]\ttrain-mlogloss:4.395020\n",
        "[0]\ttrain-mlogloss:4.611642\n",
        "[1]\ttrain-mlogloss:4.578756\n",
        "[2]\ttrain-mlogloss:4.546030\n"
       ]
      },
      {
       "output_type": "stream",
       "stream": "stdout",
       "text": [
        "     row_id           0           1           2\n",
        "0  20937284  7947955924  8637115336  9129780742\n",
        "1  26826549  8163579295  8460394911  8637115336\n",
        "2  22912562  8163579295  8460394911  8637115336\n",
        "3   9956263  7947955924  8637115336  9129780742\n",
        "4  27207943  8637115336  9129780742  8772469670\n"
       ]
      }
     ],
     "prompt_number": 20
    },
    {
     "cell_type": "markdown",
     "metadata": {},
     "source": [
      "# Python send email as a notification"
     ]
    },
    {
     "cell_type": "code",
     "collapsed": false,
     "input": [
      "import smtplib\n",
      "server = smtplib.SMTP('smtp.gmail.com', 587)\n",
      "\n",
      "server.ehlo()\n",
      "server.starttls()\n",
      "server.ehlo()\n",
      "\n",
      "server.login(\"zhaoyun.shuhan.wuhu@gmail.com\", \"liuguanzhang\")\n",
      "\n",
      "msg = \"\\nDone\" # The /n separates the message from the headers (which we ignore for this example)\n",
      "server.sendmail(\"zhaoyun.shuhan.wuhu@gmail.com\", \"howard.zhengda.xie@gmail.com\", msg)\n"
     ],
     "language": "python",
     "metadata": {},
     "outputs": [
      {
       "ename": "SMTPAuthenticationError",
       "evalue": "(534, '5.7.14 <https://accounts.google.com/signin/continue?sarp=1&scc=1&plt=AKgnsbv2\\n5.7.14 Onin35tVShmnY1UfloXGSqfsSy8bxHic2driWWtolhYa4oVCzdRwCwk9eiCAgb3O4zwe4P\\n5.7.14 OQbRiNyfPMW_qo0pLOO4d4cTPe2uwro4v6kpvm3icqpyf7_dD6fGwZL2YtU27qv8Ls6S1D\\n5.7.14 xgvG6QHS2z9sXk6O5BUUh5TrSY1nmludMMCZUS6vPRy0RNiDmR_9XwTeVa34AZj579i5bK\\n5.7.14 V9uRrsj3WdGv5Tws8jJ8Rz-znmTFc> Please log in via your web browser and\\n5.7.14 then try again.\\n5.7.14  Learn more at\\n5.7.14  https://support.google.com/mail/answer/78754 x88sm21470339pfa.47 - gsmtp')",
       "output_type": "pyerr",
       "traceback": [
        "\u001b[1;31m---------------------------------------------------------------------------\u001b[0m\n\u001b[1;31mSMTPAuthenticationError\u001b[0m                   Traceback (most recent call last)",
        "\u001b[1;32m<ipython-input-21-12bbd3148259>\u001b[0m in \u001b[0;36m<module>\u001b[1;34m()\u001b[0m\n\u001b[0;32m      6\u001b[0m \u001b[0mserver\u001b[0m\u001b[1;33m.\u001b[0m\u001b[0mehlo\u001b[0m\u001b[1;33m(\u001b[0m\u001b[1;33m)\u001b[0m\u001b[1;33m\u001b[0m\u001b[0m\n\u001b[0;32m      7\u001b[0m \u001b[1;33m\u001b[0m\u001b[0m\n\u001b[1;32m----> 8\u001b[1;33m \u001b[0mserver\u001b[0m\u001b[1;33m.\u001b[0m\u001b[0mlogin\u001b[0m\u001b[1;33m(\u001b[0m\u001b[1;34m\"zhaoyun.shuhan.wuhu@gmail.com\"\u001b[0m\u001b[1;33m,\u001b[0m \u001b[1;34m\"liuguanzhang\"\u001b[0m\u001b[1;33m)\u001b[0m\u001b[1;33m\u001b[0m\u001b[0m\n\u001b[0m\u001b[0;32m      9\u001b[0m \u001b[1;33m\u001b[0m\u001b[0m\n\u001b[0;32m     10\u001b[0m \u001b[0mmsg\u001b[0m \u001b[1;33m=\u001b[0m \u001b[1;34m\"\\nDone\"\u001b[0m \u001b[1;31m# The /n separates the message from the headers (which we ignore for this example)\u001b[0m\u001b[1;33m\u001b[0m\u001b[0m\n",
        "\u001b[1;32m/opt/anaconda/envs/np18py27-1.9/lib/python2.7/smtplib.pyc\u001b[0m in \u001b[0;36mlogin\u001b[1;34m(self, user, password)\u001b[0m\n\u001b[0;32m    620\u001b[0m             \u001b[1;31m# 235 == 'Authentication successful'\u001b[0m\u001b[1;33m\u001b[0m\u001b[1;33m\u001b[0m\u001b[0m\n\u001b[0;32m    621\u001b[0m             \u001b[1;31m# 503 == 'Error: already authenticated'\u001b[0m\u001b[1;33m\u001b[0m\u001b[1;33m\u001b[0m\u001b[0m\n\u001b[1;32m--> 622\u001b[1;33m             \u001b[1;32mraise\u001b[0m \u001b[0mSMTPAuthenticationError\u001b[0m\u001b[1;33m(\u001b[0m\u001b[0mcode\u001b[0m\u001b[1;33m,\u001b[0m \u001b[0mresp\u001b[0m\u001b[1;33m)\u001b[0m\u001b[1;33m\u001b[0m\u001b[0m\n\u001b[0m\u001b[0;32m    623\u001b[0m         \u001b[1;32mreturn\u001b[0m \u001b[1;33m(\u001b[0m\u001b[0mcode\u001b[0m\u001b[1;33m,\u001b[0m \u001b[0mresp\u001b[0m\u001b[1;33m)\u001b[0m\u001b[1;33m\u001b[0m\u001b[0m\n\u001b[0;32m    624\u001b[0m \u001b[1;33m\u001b[0m\u001b[0m\n",
        "\u001b[1;31mSMTPAuthenticationError\u001b[0m: (534, '5.7.14 <https://accounts.google.com/signin/continue?sarp=1&scc=1&plt=AKgnsbv2\\n5.7.14 Onin35tVShmnY1UfloXGSqfsSy8bxHic2driWWtolhYa4oVCzdRwCwk9eiCAgb3O4zwe4P\\n5.7.14 OQbRiNyfPMW_qo0pLOO4d4cTPe2uwro4v6kpvm3icqpyf7_dD6fGwZL2YtU27qv8Ls6S1D\\n5.7.14 xgvG6QHS2z9sXk6O5BUUh5TrSY1nmludMMCZUS6vPRy0RNiDmR_9XwTeVa34AZj579i5bK\\n5.7.14 V9uRrsj3WdGv5Tws8jJ8Rz-znmTFc> Please log in via your web browser and\\n5.7.14 then try again.\\n5.7.14  Learn more at\\n5.7.14  https://support.google.com/mail/answer/78754 x88sm21470339pfa.47 - gsmtp')"
       ]
      }
     ],
     "prompt_number": 21
    },
    {
     "cell_type": "markdown",
     "metadata": {},
     "source": [
      "# multi-process Parallalization of the above pipeline to use all cores\n",
      "   - specify a pool of processes using multiprocess package\n",
      "   - need wrapper a function for each function with input parameters more than 1\n",
      "   - use itertools to zip arguments in a list, and in wrapper function unzip/unwrap it"
     ]
    },
    {
     "cell_type": "code",
     "collapsed": false,
     "input": [
      "def parallel_train(inputs):\n",
      "    \"\"\"Convert f([1,2]) to f(1,2) call\"\"\"\n",
      "    return tgm.train_model(*inputs)"
     ],
     "language": "python",
     "metadata": {},
     "outputs": [],
     "prompt_number": 8
    },
    {
     "cell_type": "code",
     "collapsed": false,
     "input": [
      "import multiprocessing\n",
      "from multiprocessing import *\n",
      "from multiprocessing import Queue, Process, freeze_support\n",
      "from multiprocessing import Pool\n",
      "\n",
      "import itertools # for multiple input arguments of the function to be parallilized\n",
      "\n",
      "multiprocessing.cpu_count() # print the number of CPUs availalbe to system\n",
      "\n",
      "freeze_support()\n",
      "pool = Pool( processes = int(multiprocessing.cpu_count() * 1) ) # process pool based on number of cores \n",
      "\n",
      "# define input arguments with their associated names in function\n",
      "feature_list = ['x', 'y', 'accuracy', 'time']\n",
      "predictor_name = 'place_id'\n",
      "predictor_idx = 4\n",
      "leaf_mltpr = 1.002\n",
      "tree_mltpr = 1.001\n",
      "\n",
      "pool.map(parallel_train, # function to be parallilized\n",
      "         itertools.izip\n",
      "        (\n",
      "            train_grid.keys(),\n",
      "            itertools.repeat(train_grid),\n",
      "            itertools.repeat(param),\n",
      "            itertools.repeat(model_dict),\n",
      "            itertools.repeat(unique_class_dict),\n",
      "            itertools.repeat(feature_list),\n",
      "            itertools.repeat(predictor_name), \n",
      "            itertools.repeat(predictor_idx),\n",
      "            itertools.repeat(leaf_mltpr),\n",
      "            itertools.repeat(tree_mltpr)\n",
      "        )\n",
      "    )\n",
      "print model_dict"
     ],
     "language": "python",
     "metadata": {},
     "outputs": [
      {
       "output_type": "stream",
       "stream": "stderr",
       "text": [
        "[0]\ttrain-mlogloss:4.656915\n",
        "[0]\ttrain-mlogloss:4.475652\n",
        "[0]\ttrain-mlogloss:4.618440\n",
        "[0]\ttrain-mlogloss:4.563554\n",
        "[1]\ttrain-mlogloss:4.621784\n",
        "[1]\ttrain-mlogloss:4.439512\n",
        "[1]\ttrain-mlogloss:4.592400\n",
        "[1]\ttrain-mlogloss:4.531149\n",
        "[2]\ttrain-mlogloss:4.586928\n",
        "[0]\ttrain-mlogloss:4.479799\n",
        "[2]\ttrain-mlogloss:4.566453\n",
        "[2]\ttrain-mlogloss:4.498874\n",
        "[0]\ttrain-mlogloss:4.248041\n",
        "[1]\ttrain-mlogloss:4.447684\n",
        "[0]\ttrain-mlogloss:4.414587\n",
        "[0]\ttrain-mlogloss:4.751970\n",
        "[1]\ttrain-mlogloss:4.246327\n",
        "[0]\ttrain-mlogloss:4.403332\n",
        "[1]\ttrain-mlogloss:4.385756\n",
        "[1]\ttrain-mlogloss:4.724211\n",
        "[0]\ttrain-mlogloss:4.509821\n",
        "[1]\ttrain-mlogloss:4.375722\n",
        "[0]\ttrain-mlogloss:4.477704\n",
        "[2]\ttrain-mlogloss:4.696432\n",
        "[1]\ttrain-mlogloss:4.476296\n",
        "[0]\ttrain-mlogloss:4.432397\n",
        "[1]\ttrain-mlogloss:4.443471\n",
        "[0]\ttrain-mlogloss:4.245954\n",
        "[0]\ttrain-mlogloss:4.589428\n",
        "[1]\ttrain-mlogloss:4.398506\n",
        "[0]\ttrain-mlogloss:4.171538\n",
        "[1]\ttrain-mlogloss:4.214925\n",
        "[1]\ttrain-mlogloss:4.553658\n",
        "[1]\ttrain-mlogloss:4.137279\n",
        "[2]\ttrain-mlogloss:4.518079\n"
       ]
      },
      {
       "ename": "NameError",
       "evalue": "global name 'bst' is not defined",
       "output_type": "pyerr",
       "traceback": [
        "\u001b[1;31m---------------------------------------------------------------------------\u001b[0m\n\u001b[1;31mNameError\u001b[0m                                 Traceback (most recent call last)",
        "\u001b[1;32m<ipython-input-9-2677cf62ccf7>\u001b[0m in \u001b[0;36m<module>\u001b[1;34m()\u001b[0m\n\u001b[0;32m     30\u001b[0m             \u001b[0mitertools\u001b[0m\u001b[1;33m.\u001b[0m\u001b[0mrepeat\u001b[0m\u001b[1;33m(\u001b[0m\u001b[0mpredictor_idx\u001b[0m\u001b[1;33m)\u001b[0m\u001b[1;33m,\u001b[0m\u001b[1;33m\u001b[0m\u001b[0m\n\u001b[0;32m     31\u001b[0m             \u001b[0mitertools\u001b[0m\u001b[1;33m.\u001b[0m\u001b[0mrepeat\u001b[0m\u001b[1;33m(\u001b[0m\u001b[0mleaf_mltpr\u001b[0m\u001b[1;33m)\u001b[0m\u001b[1;33m,\u001b[0m\u001b[1;33m\u001b[0m\u001b[0m\n\u001b[1;32m---> 32\u001b[1;33m             \u001b[0mitertools\u001b[0m\u001b[1;33m.\u001b[0m\u001b[0mrepeat\u001b[0m\u001b[1;33m(\u001b[0m\u001b[0mtree_mltpr\u001b[0m\u001b[1;33m)\u001b[0m\u001b[1;33m\u001b[0m\u001b[0m\n\u001b[0m\u001b[0;32m     33\u001b[0m         )\n\u001b[0;32m     34\u001b[0m     )\n",
        "\u001b[1;32m/opt/anaconda/envs/np18py27-1.9/lib/python2.7/multiprocessing/pool.pyc\u001b[0m in \u001b[0;36mmap\u001b[1;34m(self, func, iterable, chunksize)\u001b[0m\n\u001b[0;32m    249\u001b[0m         '''\n\u001b[0;32m    250\u001b[0m         \u001b[1;32massert\u001b[0m \u001b[0mself\u001b[0m\u001b[1;33m.\u001b[0m\u001b[0m_state\u001b[0m \u001b[1;33m==\u001b[0m \u001b[0mRUN\u001b[0m\u001b[1;33m\u001b[0m\u001b[0m\n\u001b[1;32m--> 251\u001b[1;33m         \u001b[1;32mreturn\u001b[0m \u001b[0mself\u001b[0m\u001b[1;33m.\u001b[0m\u001b[0mmap_async\u001b[0m\u001b[1;33m(\u001b[0m\u001b[0mfunc\u001b[0m\u001b[1;33m,\u001b[0m \u001b[0miterable\u001b[0m\u001b[1;33m,\u001b[0m \u001b[0mchunksize\u001b[0m\u001b[1;33m)\u001b[0m\u001b[1;33m.\u001b[0m\u001b[0mget\u001b[0m\u001b[1;33m(\u001b[0m\u001b[1;33m)\u001b[0m\u001b[1;33m\u001b[0m\u001b[0m\n\u001b[0m\u001b[0;32m    252\u001b[0m \u001b[1;33m\u001b[0m\u001b[0m\n\u001b[0;32m    253\u001b[0m     \u001b[1;32mdef\u001b[0m \u001b[0mimap\u001b[0m\u001b[1;33m(\u001b[0m\u001b[0mself\u001b[0m\u001b[1;33m,\u001b[0m \u001b[0mfunc\u001b[0m\u001b[1;33m,\u001b[0m \u001b[0miterable\u001b[0m\u001b[1;33m,\u001b[0m \u001b[0mchunksize\u001b[0m\u001b[1;33m=\u001b[0m\u001b[1;36m1\u001b[0m\u001b[1;33m)\u001b[0m\u001b[1;33m:\u001b[0m\u001b[1;33m\u001b[0m\u001b[0m\n",
        "\u001b[1;32m/opt/anaconda/envs/np18py27-1.9/lib/python2.7/multiprocessing/pool.pyc\u001b[0m in \u001b[0;36mget\u001b[1;34m(self, timeout)\u001b[0m\n\u001b[0;32m    565\u001b[0m             \u001b[1;32mreturn\u001b[0m \u001b[0mself\u001b[0m\u001b[1;33m.\u001b[0m\u001b[0m_value\u001b[0m\u001b[1;33m\u001b[0m\u001b[0m\n\u001b[0;32m    566\u001b[0m         \u001b[1;32melse\u001b[0m\u001b[1;33m:\u001b[0m\u001b[1;33m\u001b[0m\u001b[0m\n\u001b[1;32m--> 567\u001b[1;33m             \u001b[1;32mraise\u001b[0m \u001b[0mself\u001b[0m\u001b[1;33m.\u001b[0m\u001b[0m_value\u001b[0m\u001b[1;33m\u001b[0m\u001b[0m\n\u001b[0m\u001b[0;32m    568\u001b[0m \u001b[1;33m\u001b[0m\u001b[0m\n\u001b[0;32m    569\u001b[0m     \u001b[1;32mdef\u001b[0m \u001b[0m_set\u001b[0m\u001b[1;33m(\u001b[0m\u001b[0mself\u001b[0m\u001b[1;33m,\u001b[0m \u001b[0mi\u001b[0m\u001b[1;33m,\u001b[0m \u001b[0mobj\u001b[0m\u001b[1;33m)\u001b[0m\u001b[1;33m:\u001b[0m\u001b[1;33m\u001b[0m\u001b[0m\n",
        "\u001b[1;31mNameError\u001b[0m: global name 'bst' is not defined"
       ]
      }
     ],
     "prompt_number": 9
    },
    {
     "cell_type": "code",
     "collapsed": false,
     "input": [],
     "language": "python",
     "metadata": {},
     "outputs": []
    }
   ],
   "metadata": {}
  }
 ]
}