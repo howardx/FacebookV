{
 "metadata": {
  "name": "",
  "signature": "sha256:6df16bb49dde44a26b84e4dec273321a428ac3b45f6c7a730ac8f80de2bbc9f9"
 },
 "nbformat": 3,
 "nbformat_minor": 0,
 "worksheets": [
  {
   "cells": [
    {
     "cell_type": "code",
     "collapsed": false,
     "input": [
      "import K_fbV.fb_split_grid as sg\n",
      "import K_fbV.factorize_predictor as fp\n",
      "\n",
      "import pandas as pd"
     ],
     "language": "python",
     "metadata": {},
     "outputs": [],
     "prompt_number": 17
    },
    {
     "cell_type": "code",
     "collapsed": false,
     "input": [
      "train = pd.read_csv('data/train_100K_sample.csv')\n",
      "test = pd.read_csv('data/train_10K_sample.csv')\n",
      "\n",
      "test = test[['row_id', 'x', 'y', 'accuracy', 'time']]"
     ],
     "language": "python",
     "metadata": {},
     "outputs": [],
     "prompt_number": 18
    },
    {
     "cell_type": "code",
     "collapsed": false,
     "input": [
      "# generate the grids\n",
      "train_grid, test_grid = sg.get_grids(train, test)"
     ],
     "language": "python",
     "metadata": {},
     "outputs": [],
     "prompt_number": 19
    },
    {
     "cell_type": "code",
     "collapsed": false,
     "input": [
      "train, original_label = fp.factorize_predictor(train, 5)\n",
      "\n",
      "print original_label[0:3] # should be original \"place_id\"\n",
      "print min(original_label) # should be the same as min(train['place_id'])\n",
      "\n",
      "print len(original_label)\n",
      "print len(train['place_id'])\n",
      "\n",
      "print train.head() # should be factorized into 0, 1, 2, 3..."
     ],
     "language": "python",
     "metadata": {},
     "outputs": [
      {
       "output_type": "stream",
       "stream": "stdout",
       "text": [
        "[  2.57674049e+09   4.67718768e+09   5.80180283e+09]\n",
        "1000025138.0\n",
        "52844\n",
        "100000\n",
        "     row_id       x       y  accuracy    time  place_id\n",
        "0   9160363  3.5582  3.7109         6  165878         0\n",
        "1  11059323  4.4331  6.7376        64  386737         1\n",
        "2    319918  7.3856  2.9418        65  273133         2\n",
        "3    472956  7.8793  6.3885        64  784848         3\n",
        "4  22692915  3.0219  7.6451        40  400398         4\n"
       ]
      }
     ],
     "prompt_number": 9
    },
    {
     "cell_type": "code",
     "collapsed": false,
     "input": [
      "# cross validation\n",
      "# can be (should be) parallilized also\n",
      "\n",
      "import xgboost as xgb\n",
      "import K_fbV.factorize_predictor as fp\n",
      "import K_fbV.feature_predictor_split as fps\n",
      "\n",
      "def cross_validation(coord_tup, train_grid_dict, predictor_col, num_boosters, n_fold = 5, param_dict = {}, obj = 'multi:softprob',\n",
      "               metric = 'mlogloss', learning_rate = 0.1, max_depth = 2):\n",
      "    grid = train_grid[coord_tup]\n",
      "    train, original_label = fp.factorize_predictor(grid, predictor_col)\n",
      "    \n",
      "    train_X, train_Y = fps.feature_predictor_split(train, predictor_col)\n",
      "    \n",
      "    dtrain = xgb.DMatrix( train_X, label = train_Y )\n",
      "    \n",
      "    # parameters in initial round of CV\n",
      "    init_param = { 'max_depth' : max_depth, 'eta' : learning_rate, 'silent' : 1, 'nthread' : 4, 'num_class' : len(original_label) }\n",
      "\n",
      "    l = xgb.cv(init_param, dtrain, num_boost_round = num_boosters, nfold = n_fold,\n",
      "        metrics = ['mlogloss', 'merror'], seed = 0)\n",
      "    return l"
     ],
     "language": "python",
     "metadata": {},
     "outputs": [],
     "prompt_number": 20
    },
    {
     "cell_type": "markdown",
     "metadata": {},
     "source": [
      "# Cross validation - can be used for parameter tuning ( MAINLY for nrounds/number of boosters)\n",
      "   - row number indicate the number of rounds/boosters\n",
      "   - \"test-mlogloss-std\" is the target metric for CV, if using other metric, then the name of this column will change per that metric\n",
      "   - normally CV for xgb is used for optimize \"number of rounds\"/\"number of boosters\" parameter\n",
      "   -  If test metric stops reducing and starts to increase, it means that the model might have reached a local optimum and you may want to increase learning steps (decrease eta/learning rate) or tune other parameters to see if there is a better result you can reach"
     ]
    },
    {
     "cell_type": "code",
     "collapsed": false,
     "input": [
      "l = cross_validation((2, 8), train_grid, 5, num_boosters = 5, learning_rate = 0.1, max_depth = 3)\n",
      "\n",
      "print type(l)\n",
      "print l"
     ],
     "language": "python",
     "metadata": {},
     "outputs": [
      {
       "output_type": "stream",
       "stream": "stdout",
       "text": [
        "<class 'pandas.core.frame.DataFrame'>\n",
        "   test-merror-mean  test-merror-std  test-mlogloss-mean  test-mlogloss-std  \\\n",
        "0          0.999091         0.001818           -3.302011           0.014731   \n",
        "1          1.000000         0.000000           -3.938673           0.014771   \n",
        "2          0.999091         0.001818           -4.296290           0.012883   \n",
        "3          1.000000         0.000000           -4.531354           0.012240   \n",
        "4          1.000000         0.000000           -4.705692           0.012484   \n",
        "\n",
        "   train-merror-mean  train-merror-std  train-mlogloss-mean  \\\n",
        "0           0.998636          0.001325            -3.301747   \n",
        "1           0.998409          0.001701            -3.937711   \n",
        "2           0.999318          0.000909            -4.292139   \n",
        "3           0.998636          0.001325            -4.530716   \n",
        "4           0.998409          0.001159            -4.706040   \n",
        "\n",
        "   train-mlogloss-std  \n",
        "0            0.009911  \n",
        "1            0.010746  \n",
        "2            0.009976  \n",
        "3            0.009666  \n",
        "4            0.009641  \n"
       ]
      }
     ],
     "prompt_number": 21
    },
    {
     "cell_type": "code",
     "collapsed": false,
     "input": [],
     "language": "python",
     "metadata": {},
     "outputs": []
    }
   ],
   "metadata": {}
  }
 ]
}