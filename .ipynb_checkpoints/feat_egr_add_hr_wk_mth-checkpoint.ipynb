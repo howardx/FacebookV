{
 "cells": [
  {
   "cell_type": "code",
   "execution_count": 1,
   "metadata": {
    "collapsed": true
   },
   "outputs": [],
   "source": [
    "import pandas as pd\n",
    "import numpy as np\n",
    "\n",
    "from itertools import tee, izip"
   ]
  },
  {
   "cell_type": "code",
   "execution_count": 2,
   "metadata": {
    "collapsed": true
   },
   "outputs": [],
   "source": [
    "train = pd.read_csv('../input/train.csv')\n",
    "test = pd.read_csv('../input/test.csv')"
   ]
  },
  {
   "cell_type": "code",
   "execution_count": 3,
   "metadata": {
    "collapsed": false
   },
   "outputs": [
    {
     "name": "stdout",
     "output_type": "stream",
     "text": [
      "   row_id       x       y  accuracy    time    place_id\n",
      "0       0  0.7941  9.0809        54  470702  8523065625\n",
      "1       1  5.9567  4.7968        13  186555  1757726713\n",
      "2       2  8.3078  7.0407        74  322648  1137537235\n",
      "3       3  7.3665  2.5165        65  704587  6567393236\n",
      "4       4  4.0961  1.1307        31  472130  7440663949\n",
      "   row_id       x       y  accuracy    time\n",
      "0       0  0.1675  1.3608       107  930883\n",
      "1       1  7.3909  2.5301        35  893017\n",
      "2       2  8.0978  2.3473        62  976933\n",
      "3       3  0.9990  1.0591        62  907285\n",
      "4       4  0.6670  9.7254        40  914399\n"
     ]
    }
   ],
   "source": [
    "print train.head()\n",
    "print test.head()"
   ]
  },
  {
   "cell_type": "code",
   "execution_count": 4,
   "metadata": {
    "collapsed": true
   },
   "outputs": [],
   "source": [
    "train['hour'] = (train['time'] // 60) % 24 + 1 # 1 to 24\n",
    "train['weekday'] = (train['time'] // 1440) % 7 + 1\n",
    "train['month'] = (train['time'] // 43200) % 12 + 1 # rough estimate, assuming month = 30 days\n",
    "\n",
    "test['hour'] = (test['time'] // 60) % 24 + 1 # 1 to 24\n",
    "test['weekday'] = (test['time'] // 1440) % 7 + 1\n",
    "test['month'] = (test['time'] // 43200) % 12 + 1 # rough estimate, assuming month = 30 days"
   ]
  },
  {
   "cell_type": "code",
   "execution_count": 5,
   "metadata": {
    "collapsed": false
   },
   "outputs": [
    {
     "name": "stdout",
     "output_type": "stream",
     "text": [
      "   row_id       x       y  accuracy    time    place_id  hour  weekday  month\n",
      "0       0  0.7941  9.0809        54  470702  8523065625    22        5     11\n",
      "1       1  5.9567  4.7968        13  186555  1757726713    14        4      5\n",
      "2       2  8.3078  7.0407        74  322648  1137537235     2        1      8\n",
      "3       3  7.3665  2.5165        65  704587  6567393236     8        7      5\n",
      "4       4  4.0961  1.1307        31  472130  7440663949    21        6     11\n",
      "   row_id       x       y  accuracy    time  hour  weekday  month\n",
      "0       0  0.1675  1.3608       107  930883    11        3     10\n",
      "1       1  7.3909  2.5301        35  893017     4        5      9\n",
      "2       2  8.0978  2.3473        62  976933    11        7     11\n",
      "3       3  0.9990  1.0591        62  907285     2        1     10\n",
      "4       4  0.6670  9.7254        40  914399    24        5     10\n"
     ]
    }
   ],
   "source": [
    "print train.head()\n",
    "print test.head()"
   ]
  },
  {
   "cell_type": "code",
   "execution_count": 6,
   "metadata": {
    "collapsed": true
   },
   "outputs": [],
   "source": [
    "train.to_csv('../feature_engineered_input/train_hr_wk_mth.csv', index = False)\n",
    "test.to_csv('../feature_engineered_input/test_hr_wk_mth.csv', index = False)"
   ]
  }
 ],
 "metadata": {
  "kernelspec": {
   "display_name": "Python 2",
   "language": "python",
   "name": "python2"
  },
  "language_info": {
   "codemirror_mode": {
    "name": "ipython",
    "version": 2
   },
   "file_extension": ".py",
   "mimetype": "text/x-python",
   "name": "python",
   "nbconvert_exporter": "python",
   "pygments_lexer": "ipython2",
   "version": "2.7.11"
  }
 },
 "nbformat": 4,
 "nbformat_minor": 0
}
