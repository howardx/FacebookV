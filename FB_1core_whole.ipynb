{
 "metadata": {
  "name": "",
  "signature": "sha256:a701c9c3eaed8f801184d6af0f98d3d28189fa6d96a2b944b5de71b55e25dd9b"
 },
 "nbformat": 3,
 "nbformat_minor": 0,
 "worksheets": [
  {
   "cells": [
    {
     "cell_type": "code",
     "collapsed": false,
     "input": [
      "import pandas as pd\n",
      "import numpy as np\n",
      "\n",
      "from itertools import tee, izip\n",
      "import os"
     ],
     "language": "python",
     "metadata": {},
     "outputs": []
    },
    {
     "cell_type": "code",
     "collapsed": false,
     "input": [
      "train = pd.read_csv('/home/ec2-user/Kaggle/facebook_Jul_2016/feature_engineered_input/hr_wk_mth/train_hr_wk_mth.csv')\n",
      "test = pd.read_csv('/home/ec2-user/Kaggle/facebook_Jul_2016/feature_engineered_input/hr_wk_mth/test_hr_wk_mth.csv')\n",
      "\n",
      "# for real testing set we don't need to do this - it doesn't have place_id info\n",
      "#test = test[['row_id', 'x', 'y', 'accuracy', 'time']]\n",
      "\n",
      "print train.head()\n",
      "print test.head()"
     ],
     "language": "python",
     "metadata": {},
     "outputs": []
    },
    {
     "cell_type": "code",
     "collapsed": false,
     "input": [
      "import K_fbV.fb_split_grid as sg\n",
      "import K_fbV.factorize_predictor as fp"
     ],
     "language": "python",
     "metadata": {},
     "outputs": []
    },
    {
     "cell_type": "code",
     "collapsed": false,
     "input": [
      "# generate the grids\n",
      "train_grid, test_grid = sg.get_grids(train, test, n = 40, m = 40)\n",
      "\n",
      "print test_grid[(2,8)].shape # number of testing set data points in grid (2, 8)"
     ],
     "language": "python",
     "metadata": {},
     "outputs": []
    },
    {
     "cell_type": "code",
     "collapsed": false,
     "input": [
      "import K_fbV.feature_predictor_split as fps\n",
      "import K_fbV.tune_numRound_maxDepth as tnm\n",
      "\n",
      "import K_fbV.train_grid_model as tgm\n",
      "import K_fbV.make_grid_prediction as mgp\n",
      "\n",
      "import K_fbV.gen_submission as gs"
     ],
     "language": "python",
     "metadata": {},
     "outputs": []
    },
    {
     "cell_type": "code",
     "collapsed": false,
     "input": [
      "param = {}\n",
      "# use softmax multi-class classification\n",
      "param['objective'] = 'multi:softprob' # tells boosted trees to output probability\n",
      "param['booster'] = 'gbtree' # - default is set to \"gbtree\" - gradient boosted tree\n",
      "# scale weight of positive examples\n",
      "param['eta'] = 0.1 # Parameters for Tree Booster - Booster parameter\n",
      "param['silent'] = 1 # whether to print logs\n",
      "param['nthread'] = 36 # parallelism\n",
      "param['eval_metric'] = 'mlogloss'"
     ],
     "language": "python",
     "metadata": {},
     "outputs": []
    },
    {
     "cell_type": "markdown",
     "metadata": {},
     "source": [
      "#Quick smoke test of the entire pipeline"
     ]
    },
    {
     "cell_type": "code",
     "collapsed": false,
     "input": [
      "model_dict = {}\n",
      "unique_class_dict = {}\n",
      "\n",
      "tgm.train_model((2, 8), train_grid, param, model_dict, unique_class_dict,\n",
      "            feature_list = ['x', 'y', 'accuracy', 'time', 'hour', 'weekday', 'month'],\n",
      "            predictor_name = 'place_id', leaf_mltpr = 1.5, tree_mltpr = 1.5)\n",
      "\n",
      "tgm.train_model((2, 9), train_grid, param, model_dict, unique_class_dict,\n",
      "            feature_list = ['x', 'y', 'accuracy', 'time', 'hour', 'weekday', 'month'],\n",
      "            predictor_name = 'place_id', leaf_mltpr = 1.5, tree_mltpr = 1.5)"
     ],
     "language": "python",
     "metadata": {},
     "outputs": []
    },
    {
     "cell_type": "code",
     "collapsed": false,
     "input": [
      "prediction_dict = {}\n",
      "mgp.predict_output((2, 8), test_grid, model_dict, unique_class_dict, prediction_dict,\n",
      "               test_row_id = 'row_id', feature_list = ['x', 'y', 'accuracy', 'time', 'hour', 'weekday', 'month'])\n",
      "\n",
      "mgp.predict_output((2, 9), test_grid, model_dict, unique_class_dict, prediction_dict,\n",
      "               test_row_id = 'row_id', feature_list = ['x', 'y', 'accuracy', 'time', 'hour', 'weekday', 'month'])\n",
      "\n",
      "print gs.merge_prediction_grids(prediction_dict).head()"
     ],
     "language": "python",
     "metadata": {},
     "outputs": []
    },
    {
     "cell_type": "markdown",
     "metadata": {},
     "source": [
      "#multi-process Parallalization of the above pipeline to use all cores\n",
      "- specify a pool of processes using multiprocess package\n",
      "- need wrapper a function for each function with input parameters more than 1\n",
      "- use itertools to zip arguments in a list, and in wrapper function unzip/unwrap it"
     ]
    },
    {
     "cell_type": "code",
     "collapsed": false,
     "input": [
      "def parallel_train(inputs):\n",
      "    \"\"\"Convert f([1,2]) to f(1,2) call\"\"\"\n",
      "    return tgm.train_model(*inputs)"
     ],
     "language": "python",
     "metadata": {},
     "outputs": []
    },
    {
     "cell_type": "code",
     "collapsed": false,
     "input": [
      "import multiprocessing\n",
      "from multiprocessing import *\n",
      "from multiprocessing import Queue, Process, freeze_support\n",
      "from multiprocessing import Pool\n",
      "\n",
      "import itertools # for multiple input arguments of the function to be parallilized\n",
      "\n",
      "multiprocessing.cpu_count() # print the number of CPUs availalbe to system\n",
      "\n",
      "freeze_support()\n",
      "pool = Pool( processes = int(multiprocessing.cpu_count() * 0.1) ) # process pool based on number of cores \n",
      "\n",
      "# define input arguments with their associated names in function\n",
      "feature_list = ['x', 'y', 'accuracy', 'time', 'hour', 'weekday', 'month']\n",
      "predictor_name = 'place_id'\n",
      "leaf_mltpr = 1.002\n",
      "tree_mltpr = 1.001\n",
      "\n",
      "pool.map(parallel_train, # function to be parallilized\n",
      "         itertools.izip\n",
      "        (\n",
      "            train_grid.keys(),\n",
      "            itertools.repeat(train_grid),\n",
      "            itertools.repeat(param),\n",
      "            itertools.repeat(model_dict),\n",
      "            itertools.repeat(unique_class_dict),\n",
      "            itertools.repeat(feature_list),\n",
      "            itertools.repeat(predictor_name),\n",
      "            itertools.repeat(leaf_mltpr),\n",
      "            itertools.repeat(tree_mltpr)\n",
      "        )\n",
      "    )\n",
      "print model_dict"
     ],
     "language": "python",
     "metadata": {},
     "outputs": []
    }
   ],
   "metadata": {}
  }
 ]
}